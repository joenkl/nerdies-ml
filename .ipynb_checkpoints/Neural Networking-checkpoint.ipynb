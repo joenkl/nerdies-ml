{
 "cells": [
  {
   "cell_type": "code",
   "execution_count": 1,
   "metadata": {
    "collapsed": true
   },
   "outputs": [],
   "source": [
    "# Import all required libraries\n",
    "from __future__ import division # For python 2.*\n",
    "\n",
    "import numpy as np\n",
    "import matplotlib.pyplot as plt\n",
    "import mltools as ml\n",
    "\n",
    "# Data Loading\n",
    "X = np.genfromtxt('data/X_train.txt', delimiter=None)\n",
    "Y = np.genfromtxt('data/Y_train.txt', delimiter=None)\n",
    "\n",
    "# The test data\n",
    "Xte = np.genfromtxt('data/X_test.txt', delimiter=None)"
   ]
  },
  {
   "cell_type": "code",
   "execution_count": 2,
   "metadata": {
    "collapsed": true
   },
   "outputs": [],
   "source": [
    "Xtr, Xva, Ytr, Yva = ml.splitData(X, Y)\n",
    "Xtr, Ytr = ml.shuffleData(Xtr, Ytr)\n",
    "\n",
    "# Taking a subsample of the data so that trains faster.  You should train on whole data for homework and Kaggle.\n",
    "Xt, Yt = Xtr[:4000], Ytr[:4000]"
   ]
  },
  {
   "cell_type": "code",
   "execution_count": 25,
   "metadata": {},
   "outputs": [
    {
     "name": "stdout",
     "output_type": "stream",
     "text": [
      "it 1 : Jsur = 0.4385361489485671, J01 = 0.33625\n",
      "it 2 : Jsur = 0.4365911615464206, J01 = 0.36075\n",
      "it 4 : Jsur = 0.43081842285779987, J01 = 0.33625\n",
      "it 8 : Jsur = 0.43289651764846193, J01 = 0.335\n",
      "it 16 : Jsur = 0.4293185858172619, J01 = 0.3355\n",
      "it 32 : Jsur = 0.4301796839209564, J01 = 0.33125\n",
      "      Train AUC: 0.6081\n",
      " Validation AUC: 0.5955\n"
     ]
    }
   ],
   "source": [
    "\n",
    "\n",
    "\n",
    "nn = ml.nnet.nnetClassify()\n",
    "\n",
    "nn.init_weights([Xt.shape[1], 8, len(np.unique(Yt))], 'random', Xt, Yt)\n",
    "\n",
    "nn.train(Xt, Yt, stopTol=1e-8, stepsize=.25, stopIter=50)\n",
    "print(\"{0:>15}: {1:.4f}\".format('Train AUC',nn.auc(Xt, Yt)))\n",
    "print(\"{0:>15}: {1:.4f}\".format('Validation AUC', nn.auc(Xva, Yva)))\n",
    "\n",
    "\n"
   ]
  },
  {
   "cell_type": "code",
   "execution_count": null,
   "metadata": {
    "collapsed": true
   },
   "outputs": [],
   "source": []
  }
 ],
 "metadata": {
  "kernelspec": {
   "display_name": "Python 3",
   "language": "python",
   "name": "python3"
  },
  "language_info": {
   "codemirror_mode": {
    "name": "ipython",
    "version": 3
   },
   "file_extension": ".py",
   "mimetype": "text/x-python",
   "name": "python",
   "nbconvert_exporter": "python",
   "pygments_lexer": "ipython3",
   "version": "3.6.3"
  }
 },
 "nbformat": 4,
 "nbformat_minor": 2
}
