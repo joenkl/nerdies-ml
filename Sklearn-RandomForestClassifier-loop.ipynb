{
 "cells": [
  {
   "cell_type": "code",
   "execution_count": 1,
   "metadata": {},
   "outputs": [
    {
     "name": "stdout",
     "output_type": "stream",
     "text": [
      "loadded\n"
     ]
    }
   ],
   "source": [
    "# Import all required libraries\n",
    "from __future__ import division # For python 2.*\n",
    "\n",
    "import numpy as np\n",
    "import matplotlib.pyplot as plt\n",
    "import mltools as ml\n",
    "\n",
    "\n",
    "\n",
    "# Data Loading\n",
    "X = np.genfromtxt('data/X_train.txt', delimiter=None)\n",
    "Y = np.genfromtxt('data/Y_train.txt', delimiter=None)\n",
    "\n",
    "# The test data\n",
    "Xte = np.genfromtxt('data/X_test.txt', delimiter=None)\n",
    "\n",
    "Xtr, Xva, Ytr, Yva = ml.splitData(X, Y, 0.75)\n",
    "Xtr, Ytr = ml.shuffleData(Xtr, Ytr)\n",
    "\n",
    "# Taking a subsample of the data so that trains faster.  You should train on whole data for homework and Kaggle.\n",
    "Xt, Yt = Xtr[:], Ytr[:]\n",
    "print (\"loadded\")"
   ]
  },
  {
   "cell_type": "code",
   "execution_count": 2,
   "metadata": {},
   "outputs": [
    {
     "name": "stdout",
     "output_type": "stream",
     "text": [
      "10\n",
      "Training AUC:  0.742684388403\n",
      "Validation AUC:  0.713862033727\n",
      "110\n",
      "Training AUC:  0.950984457743\n",
      "Validation AUC:  0.786438001212\n",
      "210\n",
      "Training AUC:  0.950955367082\n",
      "Validation AUC:  0.786777612934\n",
      "310\n",
      "Training AUC:  0.951208586345\n",
      "Validation AUC:  0.786763880201\n",
      "410\n",
      "Training AUC:  0.95087120462\n",
      "Validation AUC:  0.786794528086\n",
      "510\n",
      "Training AUC:  0.951053420542\n",
      "Validation AUC:  0.786663670431\n",
      "610\n",
      "Training AUC:  0.951151419971\n",
      "Validation AUC:  0.786771077514\n",
      "710\n",
      "Training AUC:  0.950894594557\n",
      "Validation AUC:  0.786697162236\n",
      "810\n",
      "Training AUC:  0.95111659595\n",
      "Validation AUC:  0.786599348609\n",
      "910\n",
      "Training AUC:  0.950845981191\n",
      "Validation AUC:  0.786854277957\n",
      "1010\n",
      "Training AUC:  0.950745546539\n",
      "Validation AUC:  0.786780554584\n",
      "1110\n",
      "Training AUC:  0.950918504293\n",
      "Validation AUC:  0.786633791053\n",
      "1210\n",
      "Training AUC:  0.950938186822\n",
      "Validation AUC:  0.786632990562\n",
      "1310\n",
      "Training AUC:  0.951209963831\n",
      "Validation AUC:  0.786283153698\n",
      "1410\n",
      "Training AUC:  0.951008886389\n",
      "Validation AUC:  0.787099909702\n",
      "1510\n",
      "Training AUC:  0.95117041006\n",
      "Validation AUC:  0.786580583709\n",
      "1610\n",
      "Training AUC:  0.951134668702\n",
      "Validation AUC:  0.786924345369\n",
      "1710\n",
      "Training AUC:  0.951249643804\n",
      "Validation AUC:  0.786235201521\n",
      "1810\n",
      "Training AUC:  0.951297681369\n",
      "Validation AUC:  0.786510105834\n",
      "1910\n",
      "Training AUC:  0.951159513029\n",
      "Validation AUC:  0.786569633594\n",
      "2010\n",
      "Training AUC:  0.951251339952\n",
      "Validation AUC:  0.786090805703\n",
      "2110\n",
      "Training AUC:  0.951085616781\n",
      "Validation AUC:  0.786328380118\n",
      "done\n"
     ]
    }
   ],
   "source": [
    "from sklearn.ensemble import RandomForestClassifier\n",
    "from sklearn.datasets import make_classification\n",
    "import numpy as np\n",
    "from sklearn import metrics\n",
    "\n",
    "clfs = []\n",
    "rs= []\n",
    "r2s= []\n",
    "\n",
    "for i in range (10, 2150, 100):\n",
    "    print (i)\n",
    "    clf = RandomForestClassifier(bootstrap=True, max_depth=i, min_samples_leaf=2, min_samples_split = 15, \n",
    "                             criterion='entropy', n_estimators=300, n_jobs=4)\n",
    "    clf.fit(Xtr, Ytr)\n",
    "    \n",
    "    pred = clf.predict_proba(Xtr)[:,1]\n",
    "    fpr, tpr, thresholds = metrics.roc_curve(Ytr, pred)\n",
    "    r = metrics.auc(fpr, tpr)\n",
    "    print(\"Training AUC: \", r)\n",
    "    rs.append(r)\n",
    "    \n",
    "    pred = clf.predict_proba(Xva)[:,1]\n",
    "    fpr1, tpr1, thresholds1 = metrics.roc_curve(Yva, pred)\n",
    "    r2 = metrics.auc(fpr1, tpr1)\n",
    "    print(\"Validation AUC: \", r2)\n",
    "    r2s.append(r2)\n",
    "    \n",
    "print (\"done\")"
   ]
  },
  {
   "cell_type": "code",
   "execution_count": 3,
   "metadata": {},
   "outputs": [
    {
     "name": "stdout",
     "output_type": "stream",
     "text": [
      "Training and Validation AUC\n"
     ]
    },
    {
     "data": {
      "image/png": "[encoded data removed]",
      "text/plain": [
       "<matplotlib.figure.Figure at 0x26902a2a160>"
      ]
     },
     "metadata": {},
     "output_type": "display_data"
    }
   ],
   "source": [
    "print (\"Training and Validation AUC\")\n",
    "plt.semilogy(rs, 'r-', r2s, 'g-')\n",
    "plt.show()"
   ]
  },
  {
   "cell_type": "code",
   "execution_count": 4,
   "metadata": {},
   "outputs": [],
   "source": [
    "# pred = clf.predict_proba(Xtr)[:,1]\n",
    "# print(\"Training AUC: \")\n",
    "# fpr, tpr, thresholds = metrics.roc_curve(Ytr, pred)\n",
    "# metrics.auc(fpr, tpr)"
   ]
  },
  {
   "cell_type": "code",
   "execution_count": 5,
   "metadata": {},
   "outputs": [],
   "source": [
    "# pred = clf.predict_proba(Xva)[:,1]\n",
    "# print(\"Validation AUC: \")\n",
    "# fpr1, tpr1, thresholds1 = metrics.roc_curve(Yva, pred)\n",
    "# metrics.auc(fpr1, tpr1)"
   ]
  },
  {
   "cell_type": "code",
   "execution_count": 6,
   "metadata": {},
   "outputs": [],
   "source": [
    "## # Xte = np.genfromtxt('data/X_test.txt', delimiter=None)\n",
    "# Yte = np.vstack((np.arange(Xte.shape[0]), clf.predict_proba(Xte)[:,1])).T\n",
    "# # Output a file with two columns, a row ID and a confidence in class 1:\n",
    "# np.savetxt('Y_submit.txt',Yte,'%d, %.2f',header='ID,Prob1',comments='',delimiter=',')"
   ]
  }
 ],
 "metadata": {
  "kernelspec": {
   "display_name": "Python 3",
   "language": "python",
   "name": "python3"
  },
  "language_info": {
   "codemirror_mode": {
    "name": "ipython",
    "version": 3
   },
   "file_extension": ".py",
   "mimetype": "text/x-python",
   "name": "python",
   "nbconvert_exporter": "python",
   "pygments_lexer": "ipython3",
   "version": "3.6.3"
  }
 },
 "nbformat": 4,
 "nbformat_minor": 2
}
