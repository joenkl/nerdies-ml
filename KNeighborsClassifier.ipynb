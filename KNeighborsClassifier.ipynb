{
 "cells": [
  {
   "cell_type": "code",
   "execution_count": 1,
   "metadata": {},
   "outputs": [
    {
     "name": "stdout",
     "output_type": "stream",
     "text": [
      "loadded\n"
     ]
    }
   ],
   "source": [
    "# Import all required libraries\n",
    "from __future__ import division # For python 2.*\n",
    "\n",
    "import numpy as np\n",
    "import matplotlib.pyplot as plt\n",
    "import mltools as ml\n",
    "\n",
    "\n",
    "\n",
    "# Data Loading\n",
    "X = np.genfromtxt('data/X_train.txt', delimiter=None)\n",
    "Y = np.genfromtxt('data/Y_train.txt', delimiter=None)\n",
    "\n",
    "# The test data\n",
    "Xte = np.genfromtxt('data/X_test.txt', delimiter=None)\n",
    "\n",
    "Xtr, Xva, Ytr, Yva = ml.splitData(X, Y)\n",
    "Xtr, Ytr = ml.shuffleData(Xtr, Ytr)\n",
    "\n",
    "# Taking a subsample of the data so that trains faster.  You should train on whole data for homework and Kaggle.\n",
    "Xt, Yt = Xtr[:], Ytr[:]\n",
    "print (\"loadded\")"
   ]
  },
  {
   "cell_type": "code",
   "execution_count": 2,
   "metadata": {},
   "outputs": [],
   "source": [
    "from sklearn.neighbors import KNeighborsClassifier\n",
    "from sklearn import metrics\n",
    "\n",
    "# clf = KNeighborsClassifier(n_neighbors=20, weights='distance', algorithm='auto', leaf_size=270, p=150, n_jobs=-1)\n",
    "# clf.fit(Xtr, Ytr)"
   ]
  },
  {
   "cell_type": "code",
   "execution_count": null,
   "metadata": {},
   "outputs": [],
   "source": [
    "rs=[]\n",
    "r2s=[]\n",
    "\n",
    "for i in range (10, 210, 10):\n",
    "    print (i)\n",
    "    clf = KNeighborsClassifier(n_neighbors=20, weights='distance', algorithm='auto', p=i, n_jobs=-1)\n",
    "    clf.fit(Xtr, Ytr)\n",
    "    \n",
    "    pred = clf.predict_proba(Xtr)[:,1]\n",
    "    fpr, tpr, thresholds = metrics.roc_curve(Ytr, pred)\n",
    "    r = metrics.auc(fpr, tpr)\n",
    "    print(\"Training AUC: \", r)\n",
    "    rs.append(r)\n",
    "    \n",
    "    pred = clf.predict_proba(Xva)[:,1]\n",
    "    fpr1, tpr1, thresholds1 = metrics.roc_curve(Yva, pred)\n",
    "    r2 = metrics.auc(fpr1, tpr1)\n",
    "    print(\"Validation AUC: \", r2)\n",
    "    r2s.append(r2)\n",
    "    \n",
    "print (\"done\")"
   ]
  },
  {
   "cell_type": "code",
   "execution_count": null,
   "metadata": {},
   "outputs": [],
   "source": [
    "print (\"Training and Validation AUC\")\n",
    "plt.semilogy(rs, 'r-', r2s, 'g-')\n",
    "plt.show()"
   ]
  },
  {
   "cell_type": "code",
   "execution_count": null,
   "metadata": {},
   "outputs": [],
   "source": [
    "# from sklearn import metrics\n",
    "# pred = clf.predict_proba(Xtr)[:,1]\n",
    "# print(\"Training AUC: \")\n",
    "# fpr, tpr, thresholds = metrics.roc_curve(Ytr, pred)\n",
    "# metrics.auc(fpr, tpr)"
   ]
  },
  {
   "cell_type": "code",
   "execution_count": null,
   "metadata": {},
   "outputs": [],
   "source": [
    "# pred = clf.predict_proba(Xva)[:,1]\n",
    "# print(\"Validation AUC: \")\n",
    "# fpr1, tpr1, thresholds1 = metrics.roc_curve(Yva, pred)\n",
    "# metrics.auc(fpr1, tpr1)"
   ]
  },
  {
   "cell_type": "code",
   "execution_count": null,
   "metadata": {},
   "outputs": [],
   "source": [
    "rs=[]\n",
    "r2s=[]\n",
    "\n",
    "for i in range (1, 11):\n",
    "    print (i)\n",
    "    clf = KNeighborsClassifier(n_neighbors=20, weights='distance', algorithm='auto', p=i, n_jobs=-1)\n",
    "    clf.fit(Xtr, Ytr)\n",
    "    \n",
    "    pred = clf.predict_proba(Xtr)[:,1]\n",
    "    fpr, tpr, thresholds = metrics.roc_curve(Ytr, pred)\n",
    "    r = metrics.auc(fpr, tpr)\n",
    "    print(\"Training AUC: \", r)\n",
    "    rs.append(r)\n",
    "    \n",
    "    pred = clf.predict_proba(Xva)[:,1]\n",
    "    fpr1, tpr1, thresholds1 = metrics.roc_curve(Yva, pred)\n",
    "    r2 = metrics.auc(fpr1, tpr1)\n",
    "    print(\"Validation AUC: \", r2)\n",
    "    r2s.append(r2)\n",
    "    \n",
    "print (\"done\")"
   ]
  },
  {
   "cell_type": "code",
   "execution_count": null,
   "metadata": {},
   "outputs": [],
   "source": [
    "print (\"Training and Validation AUC\")\n",
    "plt.semilogy(rs, 'r-', r2s, 'g-')\n",
    "plt.show()"
   ]
  },
  {
   "cell_type": "code",
   "execution_count": 3,
   "metadata": {},
   "outputs": [
    {
     "name": "stdout",
     "output_type": "stream",
     "text": [
      "10\n",
      "Training AUC:  0.993707265396\n",
      "Validation AUC:  0.724352855088\n",
      "60\n",
      "Training AUC:  0.993707265396\n",
      "Validation AUC:  0.724347921082\n",
      "110\n",
      "Training AUC:  0.993707265396\n",
      "Validation AUC:  0.724330387391\n",
      "160\n",
      "Training AUC:  0.993707265396\n",
      "Validation AUC:  0.724355053242\n",
      "210\n",
      "Training AUC:  0.993707265396\n",
      "Validation AUC:  0.724355053242\n",
      "260\n",
      "Training AUC:  0.993707265396\n",
      "Validation AUC:  0.724355053242\n",
      "310\n",
      "Training AUC:  0.993707265396\n",
      "Validation AUC:  0.724355053242\n",
      "360\n",
      "Training AUC:  0.993707265396\n",
      "Validation AUC:  0.72434033759\n",
      "410\n",
      "Training AUC:  0.993707265396\n",
      "Validation AUC:  0.72434033759\n",
      "460\n",
      "Training AUC:  0.993707265396\n",
      "Validation AUC:  0.72434033759\n",
      "510\n",
      "Training AUC:  0.993707265396\n",
      "Validation AUC:  0.72434033759\n",
      "done\n"
     ]
    }
   ],
   "source": [
    "rs=[]\n",
    "r2s=[]\n",
    "\n",
    "for i in range (10, 540, 50):\n",
    "    print (i)\n",
    "    clf = KNeighborsClassifier(n_neighbors=20, weights='distance', algorithm='auto', p=2, leaf_size=i, n_jobs=-1)\n",
    "    clf.fit(Xtr, Ytr)\n",
    "    \n",
    "    pred = clf.predict_proba(Xtr)[:,1]\n",
    "    fpr, tpr, thresholds = metrics.roc_curve(Ytr, pred)\n",
    "    r = metrics.auc(fpr, tpr)\n",
    "    print(\"Training AUC: \", r)\n",
    "    rs.append(r)\n",
    "    \n",
    "    pred = clf.predict_proba(Xva)[:,1]\n",
    "    fpr1, tpr1, thresholds1 = metrics.roc_curve(Yva, pred)\n",
    "    r2 = metrics.auc(fpr1, tpr1)\n",
    "    print(\"Validation AUC: \", r2)\n",
    "    r2s.append(r2)\n",
    "    \n",
    "print (\"done\")"
   ]
  },
  {
   "cell_type": "code",
   "execution_count": 4,
   "metadata": {},
   "outputs": [
    {
     "name": "stdout",
     "output_type": "stream",
     "text": [
      "Training and Validation AUC\n"
     ]
    },
    {
     "data": {
      "image/png": "[encoded data removed]",
      "text/plain": [
       "<matplotlib.figure.Figure at 0x25000874278>"
      ]
     },
     "metadata": {},
     "output_type": "display_data"
    }
   ],
   "source": [
    "print (\"Training and Validation AUC\")\n",
    "plt.semilogy(rs, 'r-', r2s, 'g-')\n",
    "plt.show()"
   ]
  },
  {
   "cell_type": "code",
   "execution_count": 6,
   "metadata": {},
   "outputs": [
    {
     "name": "stdout",
     "output_type": "stream",
     "text": [
      "10\n",
      "Training AUC:  0.993700905372\n",
      "Validation AUC:  0.727829603477\n",
      "20\n",
      "Training AUC:  0.993707265396\n",
      "Validation AUC:  0.724300325057\n",
      "30\n",
      "Training AUC:  0.993707265396\n",
      "Validation AUC:  0.72210644612\n",
      "40\n",
      "Training AUC:  0.993707265396\n",
      "Validation AUC:  0.719584873676\n",
      "50\n",
      "Training AUC:  0.993707265396\n",
      "Validation AUC:  0.718088419708\n",
      "60\n",
      "Training AUC:  0.993707265396\n",
      "Validation AUC:  0.716628377368\n",
      "70\n",
      "Training AUC:  0.993707265396\n",
      "Validation AUC:  0.715640648405\n",
      "80\n",
      "Training AUC:  0.993707265396\n",
      "Validation AUC:  0.714585643113\n",
      "90\n",
      "Training AUC:  0.993707265396\n",
      "Validation AUC:  0.713749636928\n",
      "100\n",
      "Training AUC:  0.993707265396\n",
      "Validation AUC:  0.713026189326\n",
      "110\n",
      "Training AUC:  0.993707265396\n",
      "Validation AUC:  0.712507519693\n",
      "120\n",
      "Training AUC:  0.993707265396\n",
      "Validation AUC:  0.711884987977\n",
      "130\n",
      "Training AUC:  0.993707265396\n",
      "Validation AUC:  0.711451521192\n",
      "140\n",
      "Training AUC:  0.993707265396\n",
      "Validation AUC:  0.710805341908\n",
      "150\n",
      "Training AUC:  0.993707265396\n",
      "Validation AUC:  0.710314845701\n",
      "160\n",
      "Training AUC:  0.993707265396\n",
      "Validation AUC:  0.709824504117\n",
      "170\n",
      "Training AUC:  0.993707265396\n",
      "Validation AUC:  0.709397814276\n",
      "180\n",
      "Training AUC:  0.993707265396\n",
      "Validation AUC:  0.709009061398\n",
      "190\n",
      "Training AUC:  0.993707265396\n",
      "Validation AUC:  0.708769704988\n",
      "200\n",
      "Training AUC:  0.993707265396\n",
      "Validation AUC:  0.708558108283\n",
      "210\n",
      "Training AUC:  0.993707265396\n",
      "Validation AUC:  0.708206729597\n",
      "220\n",
      "Training AUC:  0.993707265396\n",
      "Validation AUC:  0.707920022329\n",
      "230\n",
      "Training AUC:  0.993707265396\n",
      "Validation AUC:  0.707623664358\n",
      "240\n",
      "Training AUC:  0.993707265396\n",
      "Validation AUC:  0.707208823376\n",
      "250\n",
      "Training AUC:  0.993707265396\n",
      "Validation AUC:  0.706844434069\n",
      "260\n",
      "Training AUC:  0.993707265396\n",
      "Validation AUC:  0.706455514031\n",
      "270\n",
      "Training AUC:  0.993707265396\n",
      "Validation AUC:  0.706107615059\n",
      "280\n",
      "Training AUC:  0.993707265396\n",
      "Validation AUC:  0.705703469531\n",
      "290\n",
      "Training AUC:  0.993707265396\n",
      "Validation AUC:  0.705328702373\n",
      "done\n"
     ]
    }
   ],
   "source": [
    "rs=[]\n",
    "r2s=[]\n",
    "\n",
    "for i in range (10, 300, 10):\n",
    "    print (i)\n",
    "    clf = KNeighborsClassifier(n_neighbors=i, weights='distance', algorithm='auto', p=2, n_jobs=-1)\n",
    "    clf.fit(Xtr, Ytr)\n",
    "    \n",
    "    pred = clf.predict_proba(Xtr)[:,1]\n",
    "    fpr, tpr, thresholds = metrics.roc_curve(Ytr, pred)\n",
    "    r = metrics.auc(fpr, tpr)\n",
    "    print(\"Training AUC: \", r)\n",
    "    rs.append(r)\n",
    "    \n",
    "    pred = clf.predict_proba(Xva)[:,1]\n",
    "    fpr1, tpr1, thresholds1 = metrics.roc_curve(Yva, pred)\n",
    "    r2 = metrics.auc(fpr1, tpr1)\n",
    "    print(\"Validation AUC: \", r2)\n",
    "    r2s.append(r2)\n",
    "    \n",
    "print (\"done\")"
   ]
  },
  {
   "cell_type": "code",
   "execution_count": 14,
   "metadata": {},
   "outputs": [
    {
     "name": "stdout",
     "output_type": "stream",
     "text": [
      "Training and Validation AUC\n"
     ]
    },
    {
     "data": {
      "image/png": "[encoded data removed]",
      "text/plain": [
       "<matplotlib.figure.Figure at 0x25000513f28>"
      ]
     },
     "metadata": {},
     "output_type": "display_data"
    }
   ],
   "source": [
    "print (\"Training and Validation AUC\")\n",
    "plt.semilogy(rs, 'r-', r2s, 'g-')\n",
    "plt.xlim(10, 30)\n",
    "plt.show()"
   ]
  },
  {
   "cell_type": "code",
   "execution_count": 21,
   "metadata": {
    "scrolled": false
   },
   "outputs": [
    {
     "name": "stdout",
     "output_type": "stream",
     "text": [
      "1\n",
      "Training AUC:  0.935597676728\n",
      "Validation AUC:  0.664022444284\n",
      "2\n",
      "Training AUC:  0.9819024607\n",
      "Validation AUC:  0.704034151223\n",
      "3\n",
      "Training AUC:  0.991008481038\n",
      "Validation AUC:  0.71764976539\n",
      "4\n",
      "Training AUC:  0.992969627371\n",
      "Validation AUC:  0.723716203925\n",
      "5\n",
      "Training AUC:  0.993546406939\n",
      "Validation AUC:  0.726103233461\n",
      "6\n",
      "Training AUC:  0.993619688263\n",
      "Validation AUC:  0.727245792984\n",
      "7\n",
      "Training AUC:  0.99366827711\n",
      "Validation AUC:  0.72812195936\n",
      "8\n",
      "Training AUC:  0.99368673053\n",
      "Validation AUC:  0.728289608307\n",
      "9\n",
      "Training AUC:  0.993698074664\n",
      "Validation AUC:  0.72847967341\n",
      "10\n",
      "Training AUC:  0.993700905372\n",
      "Validation AUC:  0.727829603477\n",
      "11\n",
      "Training AUC:  0.993705941697\n",
      "Validation AUC:  0.727762088945\n",
      "12\n",
      "Training AUC:  0.993706365121\n",
      "Validation AUC:  0.726915026519\n",
      "13\n",
      "Training AUC:  0.993706913408\n",
      "Validation AUC:  0.726321857851\n",
      "14\n",
      "Training AUC:  0.993706967873\n",
      "Validation AUC:  0.726236473914\n",
      "15\n",
      "Training AUC:  0.993707108668\n",
      "Validation AUC:  0.725797826561\n",
      "16\n",
      "Training AUC:  0.993707247298\n",
      "Validation AUC:  0.725226593465\n",
      "17\n",
      "Training AUC:  0.993707230586\n",
      "Validation AUC:  0.72506101173\n",
      "18\n",
      "Training AUC:  0.993707264703\n",
      "Validation AUC:  0.724778334412\n",
      "19\n",
      "Training AUC:  0.993707265396\n",
      "Validation AUC:  0.724587875089\n",
      "20\n",
      "Training AUC:  0.993707265396\n",
      "Validation AUC:  0.724300325057\n",
      "21\n",
      "Training AUC:  0.993707265396\n",
      "Validation AUC:  0.724293475676\n",
      "22\n",
      "Training AUC:  0.993707265396\n",
      "Validation AUC:  0.723980953332\n",
      "23\n",
      "Training AUC:  0.993707265396\n",
      "Validation AUC:  0.723618040605\n",
      "24\n",
      "Training AUC:  0.993707265396\n",
      "Validation AUC:  0.723286927283\n",
      "25\n",
      "Training AUC:  0.993707265396\n",
      "Validation AUC:  0.723135848071\n",
      "26\n",
      "Training AUC:  0.993707265396\n",
      "Validation AUC:  0.723055524903\n",
      "27\n",
      "Training AUC:  0.993707265396\n",
      "Validation AUC:  0.722859745714\n",
      "28\n",
      "Training AUC:  0.993707265396\n",
      "Validation AUC:  0.722654229453\n",
      "29\n",
      "Training AUC:  0.993707265396\n",
      "Validation AUC:  0.722257618663\n",
      "30\n",
      "Training AUC:  0.993707265396\n",
      "Validation AUC:  0.72210644612\n",
      "31\n",
      "Training AUC:  0.993707265396\n",
      "Validation AUC:  0.721891975656\n",
      "32\n",
      "Training AUC:  0.993707265396\n",
      "Validation AUC:  0.72152545088\n",
      "33\n",
      "Training AUC:  0.993707265396\n",
      "Validation AUC:  0.721319773031\n",
      "34\n",
      "Training AUC:  0.993707265396\n",
      "Validation AUC:  0.721130068715\n",
      "35\n",
      "Training AUC:  0.993707265396\n",
      "Validation AUC:  0.720866599474\n",
      "36\n",
      "Training AUC:  0.993707265396\n",
      "Validation AUC:  0.720611068941\n",
      "37\n",
      "Training AUC:  0.993707265396\n",
      "Validation AUC:  0.720312221679\n",
      "38\n",
      "Training AUC:  0.993707265396\n",
      "Validation AUC:  0.720197023362\n",
      "39\n",
      "Training AUC:  0.993707265396\n",
      "Validation AUC:  0.719895356667\n",
      "done\n"
     ]
    }
   ],
   "source": [
    "rs=[]\n",
    "r2s=[]\n",
    "tracking = []\n",
    "\n",
    "for i in range (1, 40):\n",
    "    print (i)\n",
    "    tracking.append(i)\n",
    "    clf = KNeighborsClassifier(n_neighbors=i, weights='distance', algorithm='auto', p=2, n_jobs=-1)\n",
    "    clf.fit(Xtr, Ytr)\n",
    "    \n",
    "    pred = clf.predict_proba(Xtr)[:,1]\n",
    "    fpr, tpr, thresholds = metrics.roc_curve(Ytr, pred)\n",
    "    r = metrics.auc(fpr, tpr)\n",
    "    print(\"Training AUC: \", r)\n",
    "    rs.append(r)\n",
    "    \n",
    "    pred = clf.predict_proba(Xva)[:,1]\n",
    "    fpr1, tpr1, thresholds1 = metrics.roc_curve(Yva, pred)\n",
    "    r2 = metrics.auc(fpr1, tpr1)\n",
    "    print(\"Validation AUC: \", r2)\n",
    "    r2s.append(r2)\n",
    "    \n",
    "print (\"done\")\n"
   ]
  },
  {
   "cell_type": "code",
   "execution_count": 32,
   "metadata": {},
   "outputs": [
    {
     "name": "stdout",
     "output_type": "stream",
     "text": [
      "Training and Validation AUC\n"
     ]
    },
    {
     "data": {
      "image/png": "[encoded data removed]",
      "text/plain": [
       "<matplotlib.figure.Figure at 0x25004b6e2b0>"
      ]
     },
     "metadata": {},
     "output_type": "display_data"
    },
    {
     "name": "stdout",
     "output_type": "stream",
     "text": [
      "0.72847967341 at neighbor 9\n"
     ]
    }
   ],
   "source": [
    "print (\"Training and Validation AUC\")\n",
    "plt.semilogy(tracking, rs, 'r-', r2s, 'g-')\n",
    "plt.ylim(0.5, 1.2)\n",
    "plt.show()\n",
    "\n",
    "print (max(r2s), \"at neighbor\", r2s.index(max(r2s)) + 1)"
   ]
  },
  {
   "cell_type": "code",
   "execution_count": null,
   "metadata": {},
   "outputs": [],
   "source": []
  }
 ],
 "metadata": {
  "kernelspec": {
   "display_name": "Python 3",
   "language": "python",
   "name": "python3"
  },
  "language_info": {
   "codemirror_mode": {
    "name": "ipython",
    "version": 3
   },
   "file_extension": ".py",
   "mimetype": "text/x-python",
   "name": "python",
   "nbconvert_exporter": "python",
   "pygments_lexer": "ipython3",
   "version": "3.6.3"
  }
 },
 "nbformat": 4,
 "nbformat_minor": 2
}
